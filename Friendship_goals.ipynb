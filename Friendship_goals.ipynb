{
  "cells": [
    {
      "cell_type": "markdown",
      "source": [
        "![images (6).jpg](data:image/jpeg;base64,/9j/4AAQSkZJRgABAQAAAQABAAD/2wCEAAkGBxMTEhUTExMWFRUWGB0XGBgXGBcYGhgaGBcYGBcXGBgYHiggGB0lHxcXITEhJSsrLi4uHR8zODMtNygtLisBCgoKDg0OGxAQGy0lICUtLS0tLS0tLS0tLS0vLS0tLS0vLS0tLS0tLS0tLS0tLS0tLS0tLS0tLS0tLS0tLS0tLf/AABEIAMYA/gMBEQACEQEDEQH/xAAcAAACAwEBAQEAAAAAAAAAAAAFBgMEBwIBCAD/xABAEAABAwIEAwYEBQIFAgcBAAABAgMRACEEBRIxBkFREyJhcYGRBzKhsRRCwdHwI1JicoLh8TOSFRckQ1Oiwhb/xAAbAQACAwEBAQAAAAAAAAAAAAADBAECBQAGB//EADURAAICAQQBAwEGBQQDAQEAAAECABEDBBIhMUETIlEFYXGBkbHRFDKhwfAjQuHxFVJiBiT/2gAMAwEAAhEDEQA/ALjSLChheJUtzOliBUMJZWgsyFUuRCy0V2qhlxPEtFW30qpkgXHHJuCklGvEKKZEhIgR4knr0oyYLFsZxajtUWZMcry1KyntLixBckA9DF5/ap2Yr7lwuSr2zo8MYUpPZvXWYQVEEDwG013pIRwZ3vHawVmmUONBST8oFlDYg7f8UNkK9wikMOIuuMRVag2WU3FVcCCJk7GOCUwa4y6uAIv49WpZPU1IgG5MkyrDFSxVHahCYsdtNByYhCkDqYoeN+Y+UoR6ZWAKfBoRR1JMC59nQbBKSna1+fpQcmWuoZMdDmZzj8Q484StZV4n7DpSxbyZDKSalN3CkXFcHEG2I+JH2V/Grh5Ax0Z+dxmmiqILI1GWMDiCTNVcScbQupoKTQKjPYnWWYI6pqTIxrzOOJUgAQKlDZlsw4k/DeFkSaJKYxHDKGU38KKlS5sTnHPISqCRPKqPVyymDXcxSk0LcYYFZEc0TyqpYyQywficwB51QiQcvNRQzNErJpvEPbMjUG3MZmB3RTa9Rc9yN8VV5ZO4NccE0sRGLE7CrUJoZeo48D4NISrEuD5SUovuYv3R0ouID+YztpPtHn9JLxRxT2Q3SDGozB0jy/k1z5CYyuNMYid//a4M6gtsK1p+cAJJmRBgSD++9RY8iU9QEyN/H4V5AhxcpkpVKf6ZTzI3mqkKZb1PtjjwVxE0+ynDuOBxQACgqyrcwOY59aLjPG0yje/3r3+si4hycNOEJ+UiRPLw8ah0o1Khty3FPGswagCBbuD3zUShg5ar1JlVMI5e4EkGgZBxGcbAG4ZOYRChukgj0oKgiMtkuFsVxSpxGlIgnczRWysRUlSviCnW1KF6ATClbErISE1BJMoAFkxdSagXL2IOxe9qOkXyDmD3WZpteIg4sy7hWyBVHMsgqFcI9aKFUOrQthl6RNT3Lg1zB2auhZrgtTmbdLmDxIbTVrlQakDudKBlJI8jXCQ2WCnsyWokkkk1NXA+qbkSsaeZqNsn1DOPxvjXETvUMjOJvvUbZ3qcyF5cmjJwIHIbMaWT3RTY6gD3OcTtVW6lli86rvUuYS5YQ5QWEOpmhZhiW8My00kEd0EzyJEqUepO1XdgoAEdwITZMz7irW+rQkLvcgJ0j2AH1oYyC+ZOXCz/AMsWcRwk8pUJZV429vCreoPAMB/CZPMvYHhnEMLDgbKgbLBvvaoLH4lxpiO5aOCLDwS4khQ7ySLEzayhvU/YYMrtaaHisX2uHYemQQUeqTvvzFXLcAmXK8mvvipmbkmoDRd15gXErqQYFhBrm9TKS1hjaqNCCWkO8qoRLq0tYRV6E0ZxmG3HITQCY7fEXMXiJNFURJ2JMidxJFXCyhyESMYqauFqR6lywyqjDqBPcIoWAKqwhAaEh/EAVAEEXhBrMgUxUbYUZQRK6VSZqZZDcq4zGxap23A5H5qUk4up2we+dhwVNSLkbj1dU7dKLr8GuqQTI/xVdtkboWZRqSDV1E48xtw7Y0imAOJQyF9MzVWl1EXMUmF0AyxE4LlUIllM0B15DvYuK70tIVqkxIkER/mBobMA3M2MA3JYngxoUo2qv8QCYwNPQllDo6Vb1JHpypisRB2qDlk+lAHFGKlvXzT9Ko+a4N8FC5awyi3gsO2bHSXCP85kfSr87BFjQMBYtyTNWTqK5TzA+IJJogETZuZXIrpwllmqGFkrYvUVKgy00YiqOvEMj8x44f4ZcxCApyW0Ha3eUOoHIeJqMekLcngRltSFFVzGrA8MYVlMJQJvKzdV/wDEdvSnRhQCosMrbrAg/H8IYZxKygalGbk6jPmdqocIr2mF9SzWQdzKs5yleGeLa/NJ5EH+RQ/vgim1qHUjZVerCDPBll5Xdrqks3EEHE71YLFWeds4i8VbbKhodbXCKGRHkali/jHpUauBxFHNmQJerqlbnYfrp1zkv104GV3FzXVLXIFGulDGjLz/AExUgwtcRvw/yCmPEqJ0huZoR5hlAivm6YXQTObuDnFRUSh4jvwktD2GDVgpGsk85kK26RHsaDkUMdpmtom249wPmjBGacSpZcKUIG+kE6rnkPM9KUBJJ2LNB8qpQdoRZzlSmlOBHy7xO9UXMxBNdQpVfmAhxJiFL0qa5agkIJJTMT72o6jIRuqLNmUPs5h7HZd2rBhBBVHdNuYneuZPbur8ITdftuXcYgvhKFakqAsoIQUgbaTCgrl0O4o2ItkW2/CLajAAfZ/eBsbwriUgKCQpJ27wSf8Atc0n6UYIQJmuhJoRXxzKm1FK0lCuigQfY1YGJupBlcVElTJNUV1Tmap0HampTdNP4E4TQlCcQ+NSyJSk7IHKRzV9qIiDsw4BHHkw5nmboQNJc0+RgnoBUPlA4uOYcHF1K2HzdRRZKiCLWvUb+OIQYgWswa1m0PEJ1tugSUKEBaRuRuDQPU93HBjBx2tHkSXiHAN49grT3XW9xvBF/t7g0Ww4sd+Ym2Iodp68GZWsFKoNiDFQoieU0ZJinO7RBBMeIvOPQTRAIoTJ8A5KqhpZBzHnJ8ocxEITYRJUdgP1oPmaSIWEvL+GRUufxHcHzd0z6TarcyG0y32Z0eA8JKgXVpMd0zaTsfToY3ofqfbGToE7AMWM14PxDRVCdaRsU31WkWFxV93zE30jjkRdxLS0/MkjzEVIIMXKsvYkQVU1K3InFV06435C3qaFcBDL1G1r5BTHiDE8bXvQ4aK+dK79AbuSYJdXUSsfuF28PglaXXiXllAUIGhClW0DmpXegnautQ3Pc1MOlyJiLeD4l/PMuaJKlOadJ2ty2jmDS+VV7LVHcRJA9tyzgsEgNKAIGqDePrRcaKF++DyO28cdQZ2GGQ7K5STt3u6o+h+lBIxq1t/xDD1GX2/8yhxtxQjCMocQntJWE6ZiZBO/pRQBk4UwTucI3MJneM4ucJLtu0VtzCOgSDuQOu1SE5lTqiFlfKuH8dmjpIU4s81KUYT5qP2ogq6AsxVtxFsaE2PIeCcSzhgxiX04oJMpSpJVCSLoGpQIgixm19pojI3/ABBDJjI2tz9pi/xJwh2UONJKUESUKCiUn+200Lkdwb4BfsidigRb6VIimQeIa4MyZeJebvpSFi8STHeIA2jxNvPardmp2LGb3HoTU+L85GHQlIMDne5/tSPEkih6nLsG0TV0WHeTkaV8iydCYdd77yrlRvE3hPQVbBhVRZ5MvqMrHheBGAJHSmqiVmBOJsDqQFogONnUi4BJHL12pfUY9y2Ox1GdNm2tR6gbJMxSl9tQsh9FvBQ3QehBNvNVKYslOD8xvLjDKR8QBx7kWh3tm50OSo+CuY+9N9GZGoQ9xceRKamLHqLOJwy9RsauDFypmj8BcJBDC38S3OoDRFzpsTAF5O1Cdr5mpo9PXYFn9I14zO8NhVpSEISFACNjF9Njvt6UP1BfAjvpUvJ5lHMOJVOo1IUWmzssgEODmkA7WmTeo9Qn7p3pqvR5iTgeKHg+sIWXm0kg9yNG8zMyDJ28KrsHYlf4hxweYZwXxLhwtvJCemkcpO4k8oqSzjvqcmTG3B4MOg4XHo1NhBJBg2CknmRy+lRdniGKKy8m5mOY5E4h1aBcJUQD1owfiYuTTEOQOpXOTO9KneJHoPG3h3DqQ3ChV0NydpXgxhXsKO0ookINCuEi5nDUqoJ7lttyTJsEhtK8W8CW2SNKRH9R2RpTfkNz6VF0LMY0+nLtEbMc0cW4XFLOrVqn/FMgj1oIHNzQfITx4j0znKcaG3kqhR+ds3CXBYyOk3HgaS1WMrls9GOaXKHxUOxDSMMpwS4UII30rJSR1i3sYohx7mux+csGIFVcq5sJbJcWlSE/KlKdI9VEkn0q2blKuUQENzMy4xzXtVoaHyN94+KjYew+9M6VNqXENZl9RwPAk/AnC6sfiQFkoZSJWvoOSUzbUfpRmIAqLopY3U2trOsPgkDD4ZCUpSItc+alTdR6k1KH/wBZ2XaCN5syiOKVuL8ACZIIIA6GpIJlRmA6E/OcemSmbCNxuOpqzbqglzYt3Ur5gw3j02CUugEpIEBQ5g/z0pfdRjWTEuVeO4w8CZX2KACuTc6EggQoggrkC9rDoaMg5uLbSiUZm3xhzYnM2WtR0o0yOUkiKAy72cmO422Ig/H+s0bGcRtsADug2HeVGoxskAEmijJQoTsiUdzmhCOU5kX0EwUkfznV8blgbFQeVESiDYMCLwOLLxKVoA6qQpZ8pkAVVVa+ZzsTW2qlXOMB+HWJiFq7REWh1IlQSOWoavWetKZ8Zxvfg/r/AMxzBkGRK8j9IyYMt4hJQoBSVIC0+SgQY6ERv40ziYN+sU1CbRf4RAzzKOxdKJkeRH/PKrxB8ddSxg8lSpMxN48z0qph0xAi4azZl1OHQVrDRQqEr1EGAnupEb+PrS+VW4PxH8Tp/KYlcJZR+LxZOJWpxLYkJJskmd/S8eNWxgE1AUzWx8TRs4y9hxoMFs6BtaAPLmKNkCldstiBuzKrfDjaMMW27WsTc22nrVRjATiXL+6q4mZ/EPIygNvABKSrQtKbgTcFPS9UT2nmC1WOxuWefDfFpacQhU6dVyCAJIMAnqOk1TIPdunaXJxsmlZghC50pTCekT5mOtSGtuOoy6ALz3BhSnoKvATvQmLCjIOInmIue6O6KMeoqO5GW6rUtBv4IuupQIuZJOyUi6lHwAmgEcw6C+IJ414i7QdiwlLbCLJEXPVZ6TQ2bdwOpqqnpJQ7PczvFGed65Yu/Mo4fFOMqlCikzII/lxRmRXHIgVZkPBjzk3xA1AJeZbLg/NEBXvsfCks2mKHcosf1E0MOsDe1+D+si4g4lU6JUQEjZKdqGqu5k5cgA4i25k7pWyVwPxSQtEGe4VFMkcvlNq0SNiiZoO9iBNSyXKFL04VlfZISIUoCVG1yOQ8zNL4xvPMYye0bVjB/wCXjY3xD5/1Uz6VdGLDaxsicK4U7NCkpWSVCJm9V2sIb08ZFDiI2dYh7CDs3GhpknWLlQ/Sqh+eYtlxMigAcfMlyzOG1jtGyULSQbbSLyBymhZDGMBE23JilSQtIACwFnrcDem8RsXA6gUanz/8S8EXc0XcgqHdP+IAR6UmmXbu++O5MO4qL8cTVsiwjOIbbfWIdCQlRsYKbECR1FHxbWG6dm3A1VwqMf2JOhpS0zB03PmZq/qbehcGcG+gWAMnOPIGqUg/2Tcj15+FXLGr/pKDEL2kH7/88RZ+Jqy5gStEhSHELSRuDqA/WhZiGSzORSjUJW4JziW0lRggSPWCR7zSOnybSQfEfypvUfbGjPcAnEIBvsCIEnw2vHhWh/NyJmMlAqZzlGB7BHekwPAAzz8PvVOuTCqLAUTL/iFnZPasha0y4VJEykyAZE3sSfalxbNZ6l8zKibR3Gb4T5QoYPtTAcdJVJvzsT1phEskiUV9mMX55h1/APpWVOYtOgXIKUpSAN/EDzNS4FcmTiL7rHI+Kk+NfSppJYcS5ImxHeHUHp41VyCAFMKgYElhEvisDEsLZUytp0QUKVJSvSQSJT9jVMjbBBreawRR+2ZRl2NWH0hKtCkykn/UZPhyFEcDbcTX2tNh4adWnBf1AStw6ptBTy2P3pdP7zRv2An4najRYvOFPEWoqkgRXJVwg1cCmIqJ0puoIloHzp/scM6v8zh7JP8AlHeX/wDke9K5Opp6JeS58TM8biJk0MQ7tcBYneaMsWJkKnAdxVwCOpU8w5wri2FBeCxA/pPkFLqUytl0CEuCLqRBIUnpRAQO4vkU2Nvc64i4WewYUl4KJSAQpJ1NqCiYIUR0BtVCKPUv63i/EbcAptWCwOLIlSG14UDopLijq/7VTQdYSFELoq3sY+/D3DE4f8SB85VE791RTPrFdhBq4T2ngxiOKPMVY5D5hRhXxInMUBVTlEIMJMEZq6haFakgiOYmqM4MscZAmJ43FBnEKDWxkQNp39q6ty3M29rkCfR/DOoYJlSrFTSPqgb0fECMYuTlIbLQmSfE1nQ4p5I7wWB6KBpDZeQzRzNWJT5nPB3HSVhvDqlL0GVGNKyDb/VH2pllKrY6ldPmV22t3G/M14kKQptCXmVbpLhbgk7kgGR4VFN34hSeSFHu+f2kzuBXiEpQ4Wm0yCUM94lImynFCb2Fo86LtDccRch09zE/pPONsSEoQwN3FCB0SnvE/YetD1JpNo8yuA7m3GLeEw6mW21H5ZF0kHYG3n4Vn7SGuPAjbRjNkPGSWf6LpkJ2UN9PKZpvFqPT9p6iubTLmO4HmEcVxY06SGnEyEn5jABmOe5kfer5NQCeJTDpgo5MwTiR1zEYlSW0qK1GNOoGV7KKCAO7zE8qviIC+6KZl35DtHM3fhxCmsIy2ndKAD5gRU2QOI4uMcbpUf4hbbCy6UoSFaVLc1XO4S2hIKlRYyLCqq19j85fIFHNnjwP7yrhMzwb6g62ttzSYK0HvIKrDWFAKSFbdNqhkVTZElMhcUv9YbcfQpB1C4B9Y51beCKMg4yOR1PnDD4gDEukDdatNwBBUd55URh7BMq7Y/fNl4XbCsOEFZK1Xm0J0pG/ITSqMLmlsPpjmfsQNKoCgqNyNp8KNFjxOlkUauIozcwnh02FGECZOsWqTOEQviRmQSttjYJaCtubhJJ+g9qSflpr4SFxD7YgPK5zValSZQecg+FGUWIMyJxI3FWBlTHz4W5SFJee0yuyESLQIU5HiQQKFma/aIxpk5LH7ox8S58hJWwUfikGNCCP+i4QUqAV+ZJH5YsZvXep7dn+CXfSoj+q/wCU9ywq7FtpaEpCnQQgIEA7AgDYxY0ME/ymRa/zBfs/CPONQtvAtpaQTbUQlYQrvEqt70QlhjG2UCr6jWD9wi/w5nDq7LQ8n/C8O97jcUo2TIHo8xzCqMljj75PmHEAbJH9PeO+rSPKTzqq5xuqrl8iELYNT9+ID6IgCf7VagR5iiEq/UqpYD3TI83y4ox62kJKwIO06QrcmihgMNkzMfETn2rPojH4o/gEKCSgwmEk8kmPYgexqc2T/wDnB66h9NirVkd9zN80xKcWhRkahaDsVJ7yfQxHrSaZLFmP58VjaJm3E+ESFpeY7pm4G6VD9ab0+YG0aZmpwladP8M0Xh/iiGkFwKU2oTI3SeYPrVA2w0epoK3qKG8xpw/FuDSP6SSpXTTF/GmUyoOhE8yPfuMXn8SS+cS8ZgpEckpJMgfT2pXM1+4w2nUDiV8+zId/RYHvQNiRYmPEGlmJJsQ7EKKgzsm39IjUSAJ6DnNMY8Zdwo7MVz58eLEzt0BcAcSv/h3FBECwm1wPDzp/PplTJtEw9FrXzYd9dn+kqcK8T4dl5T2JaUtYA7MogQfEk0NsJ8TQw51BJbua9kmdpUBJiQCAehvS2+jNRQGWoyYV9ChYjpymmFcEcRdsZBgrNsmZUlUISkrEKUgBCiJkgkC9VcAyyip5jnkpaKRvpI9xFC3AGhCsDt5nzxh2ChwhQmCRcfNHO9xTTMCtiYhFNU0zg3FBUt3BCSUkbRKd+kSPekaAaaeJiUqFnFGfWmokxqeYpzaKZA4mfkbmMTBgCriWu5FjcUAKo5llEzb4mMLLjT35VNJTP+JClAj2ilr90015xAxHU6R+1W2iRcgeXNEUVKNIgurVKBpofw1fcYCiqShz/ptj5isAjWOgj39KVyMu8V3HtLuH49CFM2cdCw200A44Pmj5QdySefhUIt8mRrmyowUjk9SN/Mw0400hWooiVHmoHUo+9qij3A7wtLNbxOOaKBqgp0jyiOVXfIgFNGMOJz7l8zzBYdGkLSnSNwDz8atjVa3AVOyO17SbgjF5I0/qSoIM7hSQZBg878h7UEJydpowrkEe4WJ4jLGsMghCEpt+UQPauZQvJ7nIBVLwIjZlgezbdxJntHVDTa470COdkyaB6ZyceJJdcAOTyeId4ZxmNdYdbxKg4EaSwsbq+YqbI5mB9RTeowH0q8jqA0GoGRi4Fc8/vM8xmJWgL8Yt4gE1n4gDQjmckAyg02pYKuqvrF/oRRmIU19kUClh+MYMqPZJ0K+U/Q1AbdDIvp8S6hOg6k7GpHElzckzDEgtKG/dNWY8QIB8QNpXEkGQNMdZ51RQJTJdE/EbstaQhpBSIOkSfTavSaHSriAc9meF+s/VMmo3YsY9q/1P7RS4pyYOvBYiTE7kULXEbrURn6LvGPa7cfHxcG4jItKbNKVa6tuWwk0kMGYi6NTVbXaVW2BwT9nP6R8awAOHbj5gkbG+1IOvE9HiIoQS6X2zKVLHkfuKSa1MY+6XcLmz6oClqV0ERXLkYnuVJgPjfix9hbTbaglYhauduSSOc3mtPT4QwJaZup1LKwCxIDz2LxBKUFTjiidKAfWBypkqqLE9zZX65M1XgjIXcNqU8hIWUgXkqF5iNtonxpStzX4jif6aV5h3EMWJowIi7gkQKtJmmgLHEyWJDEGG3MZA3riYaUnHwTvQjLgyln+B/EYZSE3W2S42Otu+j1AkeKR1oL/Me0r9oZlWKZqymFYVKDgiiiDJkbaoVViLEEDTTYOCsHpY/FOHvLOhueSR084n2pRUCi56PR4+L8n9Pj8e5ZzrNEttKWI1Xg9JtCfP7UIvZ2iR9QdVFfEQmiSQ4DeI8tyaOKqp5w3dzS8txva4dl9KC4Q2AW0xJUgaVJvaZHOksmP/AFRc3NPlvTgiFnHC6ntB/TMXSl1IWI6pXH0qzqX5HH3H+xnI4UUf6j+8opz9pUKZdLik2VPzdLjpbfaqZWKAMLhMW1rEE8U8TrSwsiyo0o/zKsPaZ9KnC5ysAZTUkYcZYQGy67iNKsSrUoJ0gJJA0zqIPiTz6QKb9RUG1eT8wWk+mZNU3q6jhfC/51GXLcVoUkAwR8qUiyb7wNh41KubszdbT40x7EWhAXEWSOB0Fae6tROpN03v6eVJHG+NjY7mTloy3kmVJUlKVC0qWfNShH0FN6fCMlbh/lTL1WoOMHaft/rD/wD4E2UxuP5zpw/TQf5TEF+u7eMi/iP2kLXDiEmy7dCDVf8AxuT5EJ/53TfB/Kcu5IgEXkTO28fp+9DfQkAknqFT6qjOigfzC/w/yvzgrOIbTy6TV8OEMFIH/cS1urbGciufIAH2d8f3g5vOQQlPQRTi5B5JmS+FudiCvEtIzYi9ja9NpmxryK4/OZOo0uoynaxPP5f0kWIxxXynkI8fLnSGtz+vVeJufRtF/BFrqz58/dI38a6mISQR5+1ZpWeiGWoSyTNQ5KVgJJ/uG9BdfmN4cwMYWcG2BqiqLjWHZzF17h9l17t1olc2kmIGw07G1ev02hREWxzPlH1L63mzZcgRvaevu8cwzlGEbZe7ZCEhUQYAEg9f3o2bQ4svJFH7Irovrur0ZO07gfBv+nxD5wiFI7RK1FU95KoJvzBFeb1ukOnNXPefS/qSfUMXqKKPRHwf2+JArDUhZmpUX8zQEq3rUwn2TG1K+/iBMa8uSKCWMJUrBxfjQyTLARg4VUoOKcOzbal+saR9VCqAm7jukTfkAiTx7lSWMUtKR3FgOI8Arcehn6VZTRqO5k5uJ+JSB60dTcTah3KobVrCdJ1yAEkXk7CPai8ERc7g1VzNizZ9LSG2f/iQlAA6gDUfUzSGVgDU9xpVGPDbTPs9zUqTufm9on9D9a7Bi91meW1ObeL+2VspxR0nxt5dT7A0ZxTRQcrG/wCGvEww+JDDx/pPEaSdkOEQD5KsPOPGpKg+74l9PlKezwZqGYYNS5CkMuI5a0gx6G1LsXvwZrDYRRBi/nmJZw6SO4Fx+UD+QKWzV0O4RH28mIT6+2WlR+VN0jkSfzEfaqg+mu0dnv8AaN6fTeqwyZBwOh/f9oTZ1AdOp5+lEQGpsUa4hPJFFBKhud+c+9HxWvMo+MFaMdsDim3ElKxYiII28/CnQVYUZiajA6niDMSylk9w6kKslXQ/2q6X2NWw+xwPBmF9T0reiXAqr/eTNuqI8Y/5FbKrU8Nly7ujJFuwL79JO/TxogEULkeef7xczrNlIhKBKhz5AG1/5yrN1eT0mZR/u5+4zf8ApmL+JxpkawUsA/I/ziL7j6liCQQTJG/186UTMyJsXruaGbSJlyjK9kgV34lQsSowkWi0x7Hl60OzC7R1O0SlRVAiIgEKg8j5VcGxBMCpvxLzONQkSs6idgDYdZE2oR56jaHbyZAc/bWqBAjnZV/0qNplmyiSduNQgweW16grJV6NiE282XZJ58zRtHp1bKC3iKfV/qOTHpiqA2eL+IUw2KCrdN/M16hXBnzXJiK8yx2oBq9wOwwtk2KV3kpPzJ26xy86zvqeMvgLDx+nmb3/AOb1I0+s2N04r8fH9/zlppBO9eSJn0gRR4kwSy5INPacnbzM3Vp7rEN4rhwkyKp60OdPcpnhlVVOX7Jw05k5yxTLDxP5ghP/AN5P2qpa1Mf0GLbl5iXxshTyO1NktpCQTb08aGpO+aWpxg47+JmriStQSkFRJgAAkknkAN6fXiYeQA8TWOG+BMWpxnFY4JQGRKGzHaHSO5rIsADBvJqijbdQ4Yuys/iW8XlTRK1uSSDYAHnzn9qCuEE8xnU/UXIsCZ1nmTJEhCiDMwYI8rbUyo2mYxzEiqgTCK0EpVb+GoyC+RL42BElxLer1SKhTUjzCjPFGOaQB26lo23kjwJ396EcOJzxwY/6mbEgJNj9JJgO0e/qOkwdgefiaXzbcftXv5ml9P0zZv8AVydeB/f9oZCkoEkgRS6izN4sqDkyTL8UXFTEJHy+PiaNdGpGHIchvx4hdONSn5iAP5t19KIGl82VMa25qF2MSUgHUEA7FU36T09aMpbxMnN9S0182YWw7iFiNaJImAoGesUa4uNbgc0Dd/M8fdAMyJ6T08P0rV0mqDexu/E8R/8AofoTYQdXpgSn+4fH2j7IFzLPUtzYqi4A/U8qvrdT6I2r2ZjfRtD/ABTF8n8o/qf87ihj8et5ajO/jEDkBWJZY2Z640BtAoCUcxzPs0wnfbzO16IogGPNQMceUiJPeuTufKr1UEtsLlzKQ87ZCZEzzn61RmCwi4i8o5my5qJIIItafarBgZAXbBwdKTa1o/3q1S3cP5TmUphR2P8AI6UMidREZcJigU3v16jxoW4qbEPtV1ppfwyxHd/38xWlg1oPtbj7Z53X/RWF5MXI+P2hPDPSINauLJuBB8TzGowbCGHRFwrlr5BCuht6UegwoxFycbBl7Bv8Y3FET0rw7rtYr8GfYsT70DjyAfzixmqSV7U1jyKBUVzIWaPnZihbY1un7shU7ZG6LvHmMQxhdaxYrAjqYVVXFLG9G4Dkn4/aYnxJnhxENjabDxPWoQH+YwuozbxtE0r4dcNs4Jj8QtIU6RIUoXH+UcugoivuO4/hFnx7Rt/OD+KOKMY8SnDt26iSfM3tUlxAEZDwo4g/AZLjNClYhwkqG3T161wejchtMxWriRnrulZ3tY+BooYNEihQ0YBxS5vzq6yRwZKy+Ckf3J+tUZTcIORclSQDqSbEXHUc/WqGzwY1hyBb+0S+ziSgSCSgWieXI+1AyICxHmamkzsuJSDYHBEKMBCxIMzQCpE2MXpZF3A3JmkOWCIHUn9KovzAanVHCAqRqwmFbQAVKQF9SAo+gNMoKmLqNQ2U25neN4gTp0Bx1f8AlaaUPabUQXFWyKRUVcxxahK2jCv8qkT/AKTsfER5VcMbirKOxCOVZgHmp7WHEmSDYk+Bm9Q3HM0NFrnxjaeR5BgPMnVajBkGdQ5yD09asXLm2iBTHjJXGKHgQZ+LgQAQTafvf0qwEETxBuMe1QfO1FEB2Ze4by0YjEBCvlFCz5NgEb0eD1DN4yLIGGUAIQBbeoUCrjmwLwBPcz4fYcuUJnyqGAltgPYmKcf5AMOsKQO6T7GpwZbO0xXU6b0/cOos4JyDHKjtEzDWAxRF5NrmgsJdSYawGYEGxoLcRlGjThe+nUkjy/nrWjodWQdhmD9Z+kqynOvFQrhFQUivQKZ4HKOCY7hJKR5D7V4vVD/Wf7zPrf083pMR/wDlf0lZzCA8qVuN7YzFutIrFA0/aK7bJuJ/xUw4VgFE30LSr3lP/wCqHkHtjOlPuIPxMXyPLkP4ptEG5uRyA3M8qGzUtQyrbCaLkrisdiHUyRhMOrs0NiQFqT8xV/cBbeqgEgD8f2kggsxPjj8fMe2MChIgIAHQACm1UAQDObnj7SQIlIHQxUkTlfzErirhlnEJKikBXJaIn160A2puXbGmQTDM4YLTqmybpMdPpTWM7hcy3UoSJSSaJUgNUlaUfGqlbkjKqnmEcLjIsQem3tS+TCT1NPT63Eoq4UytHe1JOkbqkGI5+RoTqQPdC49agYnEfvjZk+CexCpQ2ENf3LB1K8QJsPGqBAILJmyZmLQ85kaE/mJ6wkqM+arfSi+IE4xfMFZhgkJ/+U+ClGP+0ED6VEq6rXNwI/iG0mA1HWAAD9anm4L2gdQQtJ7QKb5CCALQTsOvWaMBxzFmam4g3GPkrMyFAwT5bVRFqGdr5lbEOXkk/p0FFECZTQu0VeQRzcdPhmEdqtS5i21JaoAsoM1dB7VJE17L85ZV3EquLXqozIDtEb9MtzJ8yzdplMuH2qWyqvBkemauZt8Q32cThlKYIVoMmFJV5zBtXIVXIDAZ7yYiPiZUlUEEVoETHEtof2N58PahlZYcQnh8cLXt9qAymGU1HThvETz1Ta/7UFW2tcZZQ+MqRYMZUohYtA5V6vSZN6D5nzL6tpvRzOAOCeJoTEFI9va1eX1HOVvvM+kaIbdNjH/yP0nXZil9ojVwgFGnATFaEi/FJmNQnpNWKsBdSodCaBF/fBXGbQXgnknmm3iZBH2ob/ymNaYXlA+/9Jj/AAg4A8oiBpSpfgEoSTJ9QBS7ciOBwCY0cE4rs8C+42tKQrEGHVC0KSCSAecyKuhKDnvqKj3dHjuG8izjtXNAeLp5mP2qyu++jLj0yhIPU8zdaQpRcbU4AJgJKjA6Ab+VSbLzmKBLM8yppCklTaHGxzC0rT9FirVITbVrM1434TU9jApqEhcaydheNXjUJmGOwYPNpjkYERY4p4bGFeS0CoyPzaZkb/LaL0fBlOS7HUS12IaeqNgiWcowCYuL/wAv/P1p/GgM83qs7XxC6GRqCUolR2EfsJoxoeIkCzc3G/L+GtCAt7TO8bJT4kqG/wBax9XlLG/iew+l6MYsfPZ5M/DN0gmDISfmUSE22gc/W9JBrM1SQBxB2a411VypSBvpTvHjyFHBETf1PJqKmJWp1RiQnmoqUT6TaiggRQhieZxh8GkQSATcQb+U+e3tVy4WDCF+ZI68hNxsREdP+KoclihCDFRuLuNfJJuTP223qyCSw4lB5fj/ACL0YCUkSVXFWqdNM+GmSIxDatRN1XAtMHY+FZ2Qbs33TV06j0Pvj4xwm00srbbDZUqe6Y9I2je1Eyg5KsddSdNiTDewk33cKY/LJWklKSR8uoSAfEGxqDjKtYhdy5EKt15gvM+FGEMLIbSlRSRKfGTfrc1GYEjc3Yg8GPGlpjFCfO60wSOlqfBsXMcipIwuDfaqsJIhJDO46jyoBaEAjDw3qQoXtVAm/mQ2cY+PPj/iPeBdKldbi816DQIQv5zw/wBdzB3Pnrm/gUeB1NBy5wEKA5LP3mvOZx7zPoOmP+kolk0AxmD+Ls2xDOGcVh2wVAQXFEaW55xuo1oYLJmbrG2YyZgz2fYhLmsPK1TMzNPnK/zPOJpsZ5rn58zUDnzj+SnEK+YKTMf4HQD9qy85BY1PW/TmbarN3zBHAfDoScViXUEs6FIQkmA6CCYHhHPqaoqWu49CM5DtyFB5/SGfhBmKcTh8SFNIbbQ8EobSI7MadvPx86OqAd+YquQtW0VXiOuEYaCyU8upn71K7QeIR9+3mV3i0DKwDfzjrtVWKeYRQ/8Atk2IKAjuwBUkrXEqofd7orIwyXHFao9domlCoY8xwEgcTJviNmja8fpQQUtJDZIuNX5v0HpTmnXaLmP9RY5TQ8SvhcSkkQb+AKj4WTv19ulPq1nieYyYyAbH9v6mNeRNlspUkXuSTB5c/wCe9TqXGPEfkyPpuN8+qB8D/OP8/aEnsw7WWySY3Kiq835bf7ivPbw3c91tI4ErYhptoArT2i57raO6hPQnmfvQ2ZF7hFRj1COHZDglzTJ/KBAHh1rky7u4wdOAJTxeAbg7CbTFFXKBF8umvqK2Ly5SDA2O3rtRC9i4h6Ww1FbMHD5SbjxFlfvTGICDaUkq3nbf+eNGqCeQugctquIK5HVpEevh3npYlImNVZmsBVt4mx9PyAgoZprWbpd1Fx7slGyLiQOZg9aFjybhbGo642mlElTjUC7j5UEiLTBHj1PlRFYeTKsK6EXc+4nWnDuaVa03CFzYgix9KXDMz7L4k5GVcZcCYsTW3POT010mFcI8YTbYxSzryYURmyxUC/OjaIjcZl/WFJQcfj+8cuHUEkHeTW/p12rPE69y789xxyLE6n30jYaT7ivJZW3T6jpxVj7oaoFRq5nPxI4pOKeGXYPvtou8tJtqJ21bW+/lW5hxFjtUTzP1LVLjTe5ofrFB7gZYknEISOqh/vTx0BHbCYC/XFPAxk/d/wBTV8vwOHRk6G1kOIKQkhszrXrEpTF7qtWd/B3kKsfPf2T0+L6mMelXKo5qgPNnivzhbJ8vcCe0fQhptAlDc3SEi2oCyRHK9WzhB/L0JfQvnYE5ByT88zL+Bsf+Fx2Iw0qSnFa3EBQAhQOpu3KUFVvAdYGfvLISPE1sahM209Expwrzql/h1NwsgrDhcCQq4SYMbiRY8qXRWZarn5uPu6qbJ/pcuhp1hKgG2ZUJ+cqUo9DpTv40ZVZBVD/PwgWONz2fykeE7VDf9bSkm4SkkhII2k70IArdwthhYmOcd58peKUG3FBKBo7qiJJ+aYNxtTeFLWyJmanId9A9Sjwfw27jHCEIJTEFWwE9SaJkJ4CxdFvkzUz8PUMNDsj/AFEjvEzCuoj8vmPWj4mbHz3EtZpMeoHdH5/eBsDmoU72IASUhQKT806Tfy8qJqci5cLFZnfT8GXTapFcdnsdf55/7hLLsKASqP8AkkAfRIrzhG3me5x+6RZx/QVKhIN9iRP+YXB8TauOK5dsmwyEY4KTqQaWfiMowYXKWLxygKhbbiczUIHw2ZyVoX8qo9D4VoKu1RMnO1tcE51gTqJFzY+fj60xifbwYo3MBYnDEQRsf4QaaRweIDIa5lQ0aCngrpIFy/k+N7JwHkd6X1GL1EqH02U43mn4LDM4jQ/2q2lCElaFEd3+1UcvHlWfhOy1abDquWmEZczyvW2UO455wKUDpCwNVgNJ0RqBAg03vrtoI6Zf/WpnnxIzJCYwzYAjcDkOlC02K8hfwILW56QYx3M/rSmTJEp7pPKqk8y46l7LSJE7UDL9kKpjdlwkJT15+W9E0GPdkuZv1nNswUfwj5kSNJT0kfevSAe0z5/ka8oJ+R+sccuyttrtFNq1dorUSdxYAJ9K8fnwFOR1Pq+lyq44PMtaaWjcxbh1aMMyXFXJSXnDzJ/Kn6ivW6cjFjv7LM+ba8Nqs+wfO0fvHXgbhBOMR+Kxie0KvlSfkSOiR9zVMuTaAW5Y/wBI7odJ6hKpaoprjgsfPPc0fD4FlGjShI7MQ2AIS2Nu4nYee9I7vE9EMIsE+OvslTMccLBW2qD9x7mKXyMPM0MKfExn4h5QoOpfZUe2K9QUPywe4B5RPrSSZAjG+jGs+LcAw7mhcHZinF4VCnIQ8kQsDr/cn/Cd/pR8ZRhQMr6mQc1DK2mkAqK9uponsXkmcXyPxUyf4j8eogsYZWpZkKWNkjnHVX2oa4/VNnr9ZTNqPTXavf6TKWWyo9SaZYgTPE3D4WdmzhQFhSSVEzpUQRyIIFh50BMi2SYyEbbwJoK8YkiU6ShPzrNgPAE7/p50feOx1BFD0e4h8UZ4tzV2DY0pB7xBAV3TZJi9+dKZM5ZqHXzGRgAW/MB8N56HUAKMOT8v+SCT+lL5sdcxnSZrbaYwqWhxQSpOsnlBJ+lLhwTRFzTdBXcocW4VLTYS2NKlXqcyIpECCdpqI7q3EW76vbfxkbVIVG54EVZsqGuTBbjp1d6JJAgeJ8KZCjbxFMjEt7p3iXTtJMcq5BBN3xB51aV7Rbfx2/amFrcIDIPbBTgpyoAGe4dEqA6mPeqOaW4bCNzgQpjcoLbYWb3g+E7Urj1Idyomll0Zx4g5+Za4c4jXhVbBbZ3Qf0qcuAPyO4PFnOM/ZGT/AMw2kBRawoSsixtA9qAukYHxGG1wI4EScS048VPLupZJJ6/7U2HVPYIn/DPlByHzKS0RRgbizoUNSVkApPnVG7kL1CWCZkb/AE67VCqXsCCzZVx0SY38NoiJExzJE8qd+n4dpLGYH1zVDIAieP6/9R1wRHJUn/atoVU8fkDX1Jsiz1SCNSjAsQdx+9KZdKjjjgzb0n1DLpXFm1jXl+atO+BibexFY+XQKD8T2Om+rDItjmA8s+HSVtf+q1QtKQWkGCALkKVy9Pem8uotdqzL0X0oowyZTyCTX7x5acS2hLaE6EpEAAWAHKlS19zbTEFFL1K2IxgA3iqlhChDFfOceCYkKCrEC8jypXK3iOYhUAnIXH1JbSCjsxrUSYP9TayrkEA38KB6DGoQ5gxIvqMmD4ZQhNzcCBpkAAeO5oowiuZwyEGxBmK4Q1rlbrikf2FRg+cbigfwxB7jBzKRzAXxF4ew6GbYZIhJOtICTb2ozEoRtizqroSRMZw6tKTG5tTTctM1RQn0pwQ2kYZsdEJ+1VwjiGyHqXMRh/xK9Kj/AE0GAnkpQ5nrXFfUPPUsD6Y47nmb5MFI0pABIgcvarsgqoIOSbmGcSZY9gcSh1SSkdp80QCD8wkWNppcIaKGWD7XDj5jwznjbIIK4PI9CdhNZ6cddzcZh5i7n/EYcX31ggfKRXenkyQL51U1FfM+JiRpR701h0NcvFM+vvhINwxVrTzJM+ZIEUy4G0zP3ndcOjAqCuu09L/7fekd9iNBeZUzZrQk8jABHguCn6A05gWwDEsze4j/AD5gBR8KegRPzB0kKH5TPteqsu5SIRH2OD8TQglLzRG6VD7ibV5v3YnvyJ7MFM+KvBETMVk7qSdIKx1Tf3G4NbKahGHPE89k0mRTQF/dJ8vyVRILgIHJPM+fQfWh5dUBwn5wun0LMbfr4h1zDjSQNgI9dqQDm7muUAWh4irjHmykpCO+FTrm2mNorZxqaueZ1TA5DI8IqJ2jb/iocQamF8pEuAfMI9r0fSg7v1mf9QZQhvvxHrK0oT+Qj29IrWxBV4qeQ1JdvIh/DLEE6YEH62/WmvEzGHuHNwfoHzT4GedQerjNn+WBmM6UhKYUEna5ikS4IFzWXE6sdt0fib0vCOn/AN6P9I/esog/M9oHUf7YLxGIKXEtB7Woz+QQmN9Rn0j/AHoRem2g3G1w7k3la/vPMRhEH/qLJ/yjT9b1zEeZyI3iBs/wrH4PEoZSG1lsqCr6pR3o1G9wDVAU5AnZsbqN0BZdnv8ATweKKp1JGGePLeEKPksR/rNV9TxLqtBX/A/59/6xp/8AEBtNV9SNbJ3+LT1mp3iV2GZh8Vc5RCkpWsKKdISoWMnvQD4VRB6mQEXUpqG2Y6J5mUlYiByg05XMzLm58KZ+hOG1TYICvptSytssRngxg4HzxvENhST3zuOaZkmfW3oKNha4PJzzHBLY9etMRezAXFnDaMWwtlX5hbwPIjxqrLckNxRnzzmeJfwji8NiUaiiwOxI/KoHmIpR9ICdy8GNY9awG1hcX8Viisk7Dzn3NMJjCiovkylzIgI3q8Bdxo4NbbLhWsiG0KI8JkDfpc0J0uVGTawsRizrFoYw9gO1cBUB/aDA9wkJgUH+H91GMfxQ2WOz1E7NMR2iiQZCkoF+RaGg/afI06ixMn/PwlLsbUSpXfIGRY+dVEI3caeHsVDQSTfVb3rF1if6pInpvp2SsIUwgoJJO1tyR9KVFgR40TI23hGrrZA+5qxU3X5zlcVf5StmOMCUGPH6D9yKLhxFm5gc+cKnEUAmRPU1uAcTyjNbczthN5rqkM1QvgQAoKnSZseXr4UbGKqIZyWBHf2TSMrAUgKmCR6ela6AEXPH6klXI8S5iHglOncn9L/tVmNcQCIWa/AgPN8zbbhKrqVyHLxNLZ8ypwe5paXS5MtsvQinm7ThWAGyU6QRYwZ8vSsjJqcbNQI4npdPpnRLYUT+k+i+Ks+/DYRx4mFEaWhuStQhMDnG/kKFlfYhM3dPg9XKEH4zMskzkoKSXNXI9fOTea8/jyvjyX4M9lnwY8uKh2Oo4jFEiSbVo7vJmJVGou8QZ4jQttErWUkaU3NxBsOVD3G/bOcrtIMWuGsuxD+AxDaTp0RqQB3oKBK0+oJjfeiupLb06ESW0x+m3mN2U8KuhtPaYh3URM937EVQae+TxG/VoV3CjHDrwmMUY8UifvVhpmHTTv4geRFTjP4Zv4khxp8KUAe65YEnchQFj5+FM4V9MfMS1KnIbH5TNcfwVj2nOzVhXVE7aElwHyKJHvTIYGIMjL3GPJuBs4Qgn8KrsyD3VLbCo3skqn0oWTEG5HclHIjLwRk2OZdRifwq0tKASuYBKSbK7OdViBy2mh4sbqfsl3cETYYAAK4HK/Xp503XzB7j4k8CpEqbmS/HLhrtGE4pA77Nl+LZ3/7TB8iagyJhVROIhjhnKjiXFApUpKUyoiYT4kig5mYD2w+nxqzURGBHCLTZUVYhSQDY6DpMbGSIoH8S3xGW0KVyYsZmvS6QHC6AoqCzzmxn2FNYyWFmIZsQUkDqR4dqmAIq71LYwqo+1/3q+0wHqrcptsOCZQr2P6VQK3xDtkxnoj84QwDLpgIbWSOQSo/YUhlx8ksJs6fIpUBCDXxHTKOGX8QsNrloEalKMSf8KR1PU0omH3X+U0mzHbX5xnQ9g8CsMjD9o+rupStIccJVYBIiwPharranaq/nIO0qHdvwEpcQ/C/tQpTT4aWq6WFAEJO5bKwbX8DFMYlCGz3E9ReRSF6+Zm+Y8OOsMp1JX22pSVtaFSgJJ72oSCDba1/OnlBI4FzCd0R/ea+/j9YLwzK9uzVPSDPtUhT8SuR073CFsGlSd0EDnIt7cqMljsRHKVboxtyxLam9IUBe0yCgnl5T96cAQrV/8TC1ByLk3Eff9sNYfL1FKCqdQBG20nf7Vk636k2FtidibH076OmfH6r3TdD7JYw/D6U94pClE7qubc6xMufI53OeZ6XDo0xLtQcS2cCI2Av4UJmBWGGOpLxSy7iVJ7RoqDc6QhfevGwI0nlv08aZyZhl4I4jOnyNpja8/MW8TkjgkIQomY2Eepm0c6W9Ef8AtNP/AMuOjj/rJsvQ6GyHkKUYhKSohKRJBPdMqqHTJwAeJnZNcr2dvMiy7BqbCglqNQ70WPevfqT41dhlIC3FEz1fEtYFt7DhfZohJCgpMkAkApBnnGubVZEypZJsSnr2eO4YwOaOaEaivVEEEEXG80RWapoJlQjmrlw52RzAHh/vRPUMt7e5aZzq29XGUySimMHD2N1haybC3601gbcCZn6tQCAIUS8FXFHuJ1Xc8S5AM8iT/PSunGd9tXTqkSQdj6fzrUSZVzLBpdaW0u6VpKT4giLjyqe5Uz5czPh51pxbShdCyg+IBsr1F6WOUAkSd5HcvZKy40lQ0xJklKilUC2mRYjwPjQcuTdCYc4VuYfxWaqS0U9o5IGy0pV595NjQaj38SpHcQn9a3DIM3JtyG9aOHaFmbnezckZVtFMAxJx8wo1cXo4iTcHieu4qIQkypVp5DxoebOMa2IbS6Q5393U0DKsUlppKEchc8yeZPU1gnMWNkz2OPEuNAqihJsJmKi4rSoJWBIJ+1dv8yALNQg5xE7qbWvBJeW2QUqToKxHNCjB60THmYnmpXIgAuj+EYstdQ5qxbCFLedupDqoOHkCUwr5LyTuaPxZZRZ/SCF0FY0vj7fwnWZMN4hlTTqkqWAVak2LahsUnlH1qyZSvR5EFm06ZV2uvtPgzLMNmgLi2VR2rZIPRYBjUnpytW7pdWMy35nhfqP0xtK/B9t8H95Z1pVsRPQ8/A01YMz9rL3KytLa9WkwQQUjnzA9wKS1ZOPGzL3U0NEi58ipkPFxxy3MUqHf7qjcc9vYg2ryhAclieTPcJ6SKFTxLWGxSdpnzt6T6TSboVF3DY8gJqW0AztAj5vEHYz4VwJKgS+z3dQ8jK+8e91NNjAd3BlSwq525l8Cxtt49b1z4rAM5SOpA5h03tfr7c6huqnAC5wWEnYR18YriSRcjaOpGjCCYVe07dOvqakE9XKbFkOIwAJkKIm1gOfOq833IKCU8RkqFJMpBI6+hogPf2QZx2J+/wDBEBNpCbCATykCPepFmz4lgCo4Mny5pTIICpBNvCB9aMmQ4xQlGBfvxL7OPcRuQZ9Ov7UVNQejKPjnisxWklViDFvH9RV21BXmUCXB+ZZ2pKSqSEtkSABJO1veln1LseOJYgKCTLDOeLSq955en7mrfxLq9GcArLJ8dm6rECJMf/WaMdSfAkNjCgRNzjLEOYhxzae9EA3gXvSzHc7GCIqUHMuQVEEX1ET47/aPaqFpGwEyfCZAypOuCO9p/nvVgwkriBFz87w82DJFgkbb8pufL7VO6uJU4hB+ZcNMrCpTBIFx0MfuKj+KIMg6cDmUW+BmlKSAtSRPe+gEDzo6api1ShwiuZRHACxqPbCQVFNjYcp+s0TJm49wlsRYH2ywMofbTqLwIBgCDJkEiT6UmVQ9CN/xeULc8cyxwQpSwVRPMWE1UgdCcNU9gmQpxzqCNCykgE7lQ7onnVVWzGBrPiEsl4zKV/8AqG+1Q4kp7qi2q/WDf3tRl9t3zCtquKMN5k8vQ42wlLSVIkKklcKGxMXO4mqbqfaBxA5dSdp2xUw3C5SvtA6dShJO5uDqv5x7Vddc6AbeJnZcIzcPzLyeE+0KZeUD1HO5ifaj/wAfkJEEmgxgEQrh+HkpKZWpRSrcnry8rVTJrsrgoTxL4/p+JG3qOZcLSfl0+5nw335UmVq41YPE5bQAqL7mb9OnShii1fbLdSdtZKQApQA2vf8Al6qcKtCjKQKn/9k=)"
      ],
      "metadata": {
        "id": "VR4ZTTPlIJbW"
      }
    },
    {
      "cell_type": "markdown",
      "metadata": {
        "id": "BaF7p5AtYmRW"
      },
      "source": [
        "##**Friendship goals**\n",
        "**Problem**\n",
        "\n",
        "To celebrate this precious relationship of friendship on the upcoming International Friendship Day, we bring a deep learning challenge to you: #FriendshipGoals. The Anthropology department of an Ivy League school is planning to study the impact of friendship at different life stages. You have been hired as a deep learning specialist to assist their team in this project.\n",
        "\n",
        "Your task is to build a deep learning model that analyzes an image of a gathering among friends, detects the age group of the gathering, and classifies them into groups of toddlers, teenagers, or adults."
      ]
    },
    {
      "cell_type": "markdown",
      "metadata": {
        "id": "akfCIv5q0P_c"
      },
      "source": [
        "##**Import Libraries**"
      ]
    },
    {
      "cell_type": "code",
      "execution_count": 2,
      "metadata": {
        "id": "0OhZKOy1-hBp"
      },
      "outputs": [],
      "source": [
        "import numpy as np\n",
        "import pandas as pd\n",
        "import matplotlib.pyplot as plt\n",
        "import seaborn as sb "
      ]
    },
    {
      "cell_type": "markdown",
      "metadata": {
        "id": "TKA6TFFYatfg"
      },
      "source": [
        "### **load images in three differnt cata to classifies them into groups of toddlers, teenagers, or adults.**"
      ]
    },
    {
      "cell_type": "code",
      "execution_count": 52,
      "metadata": {
        "id": "5_QwRkbla41U"
      },
      "outputs": [],
      "source": [
        "import cv2 # Used for image processing\n",
        "import os   # The OS module in Python provides functions for interacting with the operating system\n",
        "import glob   # used to retrieve files/pathnames matching a specified pattern\n"
      ]
    },
    {
      "cell_type": "code",
      "execution_count": null,
      "metadata": {
        "id": "mb2gKjgebBUo"
      },
      "outputs": [],
      "source": [
        "# Adults datasets images\n",
        "path = \"/content/drive/MyDrive/train_data/Adults/*.jpg\"\n",
        "glob.glob(path)\n"
      ]
    },
    {
      "cell_type": "code",
      "execution_count": null,
      "metadata": {
        "id": "sKY0hRc-KOzI"
      },
      "outputs": [],
      "source": [
        "# Teenagers DataSets Images\n",
        "path1= \"/content/drive/MyDrive/train_data/Teenagers/*.jpg\"\n",
        "glob.glob(path1)"
      ]
    },
    {
      "cell_type": "code",
      "execution_count": null,
      "metadata": {
        "id": "a7A0ySQ-KPAs"
      },
      "outputs": [],
      "source": [
        "# Toddler DataSets images\n",
        "path2= \"/content/drive/MyDrive/train_data/Toddler/*.jpg\"\n",
        "glob.glob(path2)"
      ]
    },
    {
      "cell_type": "markdown",
      "source": [
        "## **Collect all Images in single fram & categories tham**\n",
        "\n",
        "load all image in images=[] file & load All Lebels in labels=[] Files"
      ],
      "metadata": {
        "id": "xdwR9G_e1WA7"
      }
    },
    {
      "cell_type": "code",
      "execution_count": 8,
      "metadata": {
        "id": "K62HYHjbbYCc"
      },
      "outputs": [],
      "source": [
        "images=[]  # Store Images here\n",
        "labels=[]  # Store Labels here\n",
        "\n",
        "for image in glob.glob(path):\n",
        "  img = cv2.imread(image)\n",
        "  img = cv2.resize(img,(150,150))\n",
        "  img = cv2.cvtColor(img, cv2.COLOR_BGR2RGB)\n",
        "  images.append(img)\n",
        "  labels.append(0)   # 0 Means Adult\n",
        "\n",
        "\n",
        "for image1 in glob.glob(path1):\n",
        "  img1 = cv2.imread(image1)\n",
        "  img1 = cv2.resize(img1,(150,150))\n",
        "  img = cv2.cvtColor(img, cv2.COLOR_BGR2RGB)\n",
        "  images.append(img)\n",
        "  labels.append(1)   # 1 Means Teenegers\n",
        "\n",
        "for image3 in glob.glob(path2):\n",
        "  img2 = cv2.imread(image3)\n",
        "  img2= cv2.resize(img2,(150,150))\n",
        "  img = cv2.cvtColor(img, cv2.COLOR_BGR2RGB)\n",
        "  images.append(img2)\n",
        "  labels.append(2)   # 2 Means Toddler\n"
      ]
    },
    {
      "cell_type": "markdown",
      "source": [
        "display the class name of images"
      ],
      "metadata": {
        "id": "UUPaJsnlfJPB"
      }
    },
    {
      "cell_type": "code",
      "source": [
        "  Class_Names = [\"Adult\" ,  \"Teenager\" ,\"Toddler\"]"
      ],
      "metadata": {
        "id": "cD7EZEIBv8tJ"
      },
      "execution_count": 9,
      "outputs": []
    },
    {
      "cell_type": "markdown",
      "metadata": {
        "id": "XojerXiY_MdG"
      },
      "source": [
        "##**images Independent Variable**"
      ]
    },
    {
      "cell_type": "markdown",
      "metadata": {
        "id": "pldJSwZf_MdG"
      },
      "source": [
        "We have images & Lables Using this data we train the Model.\n",
        "\n",
        "Using this data the machine understand which image belongs to which class."
      ]
    },
    {
      "cell_type": "markdown",
      "metadata": {
        "id": "mA9sffNO_MdK"
      },
      "source": [
        "###Nice. So, we have converted our labels file into numpy array. But how about images file? Shouldn't it be a numpy array also?"
      ]
    },
    {
      "cell_type": "code",
      "execution_count": 10,
      "metadata": {
        "id": "IijPFS-dQEek"
      },
      "outputs": [],
      "source": [
        "images= np.array(images)  # Train DataSet for Model"
      ]
    },
    {
      "cell_type": "markdown",
      "metadata": {
        "id": "01v29x6JC6ji"
      },
      "source": [
        "##**Traget Variable is labels**"
      ]
    },
    {
      "cell_type": "code",
      "source": [
        "labels= np.array(labels)"
      ],
      "metadata": {
        "id": "nVY8xnIE5-B4"
      },
      "execution_count": 11,
      "outputs": []
    },
    {
      "cell_type": "markdown",
      "metadata": {
        "id": "Sy5JC7_O_MdN"
      },
      "source": [
        "#==============   ***Deep Leraning Model***  ==================="
      ]
    },
    {
      "cell_type": "markdown",
      "source": [
        "#***Model Train Using Convolutional Neural Network (CNN)***"
      ],
      "metadata": {
        "id": "UaWXOJNphAo6"
      }
    },
    {
      "cell_type": "markdown",
      "source": [
        "##**Using TensorFlow & keras Sequential API In Python**\n"
      ],
      "metadata": {
        "id": "_7M6b_1BajId"
      }
    },
    {
      "cell_type": "markdown",
      "source": [
        "##**Import TensorFlow & keras**\n",
        "TensorFlow is a free and open-source software library for machine learning and artificial intelligence. It can be used across a range of tasks but has a particular focus on training and inference of deep neural networks"
      ],
      "metadata": {
        "id": "Wpz1csv-a9Jt"
      }
    },
    {
      "cell_type": "markdown",
      "source": [
        "Keras is the high-level API of TensorFlow 2: an approachable, highly-productive interface for solving machine learning problems, with a focus on modern deep learning. It provides essential abstractions and building blocks for developing and shipping machine learning solutions with high iteration velocity."
      ],
      "metadata": {
        "id": "NNbVzsWmajcS"
      }
    },
    {
      "cell_type": "markdown",
      "source": [
        "##**Create the convolutional base**\n",
        "###As input, a CNN takes tensors of shape (image_height, image_width, color_channels)"
      ],
      "metadata": {
        "id": "ZfVOkbiHfZqn"
      }
    },
    {
      "cell_type": "code",
      "execution_count": 12,
      "metadata": {
        "id": "G1LDSup4WjTN"
      },
      "outputs": [],
      "source": [
        "from keras.layers import Dense, Activation, Dropout, Conv2D, MaxPooling2D, Flatten\n",
        "from keras.models import Sequential\n",
        "model = Sequential()\n",
        "model.add(Conv2D(16, kernel_size=(5, 5), strides=(1, 1),activation='tanh',input_shape=images[0].shape))\n",
        "model.add(MaxPooling2D(pool_size=(2, 2), strides=(2, 2)))\n",
        "model.add(Conv2D(32, (5, 5), activation='relu'))\n",
        "model.add(MaxPooling2D(pool_size=(2, 2)))\n",
        "model.add(Flatten())\n",
        "model.add(Dense(1000, activation='relu'))\n",
        "model.add(Dense(10, activation='softmax'))"
      ]
    },
    {
      "cell_type": "markdown",
      "source": [
        "##**Let's display the architecture of our model so far.**"
      ],
      "metadata": {
        "id": "TMkm09zRfnG-"
      }
    },
    {
      "cell_type": "code",
      "source": [
        "model.summary()"
      ],
      "metadata": {
        "colab": {
          "base_uri": "https://localhost:8080/"
        },
        "id": "PpuK1G5EZauH",
        "outputId": "81cdc0c8-2a60-441c-8718-ed3ab92ada46"
      },
      "execution_count": 13,
      "outputs": [
        {
          "output_type": "stream",
          "name": "stdout",
          "text": [
            "Model: \"sequential\"\n",
            "_________________________________________________________________\n",
            " Layer (type)                Output Shape              Param #   \n",
            "=================================================================\n",
            " conv2d (Conv2D)             (None, 146, 146, 16)      1216      \n",
            "                                                                 \n",
            " max_pooling2d (MaxPooling2D  (None, 73, 73, 16)       0         \n",
            " )                                                               \n",
            "                                                                 \n",
            " conv2d_1 (Conv2D)           (None, 69, 69, 32)        12832     \n",
            "                                                                 \n",
            " max_pooling2d_1 (MaxPooling  (None, 34, 34, 32)       0         \n",
            " 2D)                                                             \n",
            "                                                                 \n",
            " flatten (Flatten)           (None, 36992)             0         \n",
            "                                                                 \n",
            " dense (Dense)               (None, 1000)              36993000  \n",
            "                                                                 \n",
            " dense_1 (Dense)             (None, 10)                10010     \n",
            "                                                                 \n",
            "=================================================================\n",
            "Total params: 37,017,058\n",
            "Trainable params: 37,017,058\n",
            "Non-trainable params: 0\n",
            "_________________________________________________________________\n"
          ]
        }
      ]
    },
    {
      "cell_type": "markdown",
      "source": [
        "##**Compile the Model**"
      ],
      "metadata": {
        "id": "hp1khyQ37RW0"
      }
    },
    {
      "cell_type": "code",
      "execution_count": 14,
      "metadata": {
        "id": "gd541q-q_MdO"
      },
      "outputs": [],
      "source": [
        "import keras\n",
        "model.compile(loss=keras.losses.sparse_categorical_crossentropy,metrics=['accuracy'])"
      ]
    },
    {
      "cell_type": "markdown",
      "source": [
        "##**Fit Data to Train Deep Learning Model**"
      ],
      "metadata": {
        "id": "-sWAfPUKquxD"
      }
    },
    {
      "cell_type": "code",
      "execution_count": 71,
      "metadata": {
        "colab": {
          "base_uri": "https://localhost:8080/"
        },
        "id": "8eT8grHvXczD",
        "outputId": "01e77c24-ecfc-46a9-dff0-db66490f4ed2"
      },
      "outputs": [
        {
          "output_type": "stream",
          "name": "stdout",
          "text": [
            "Epoch 1/20\n",
            "281/281 [==============================] - 189s 672ms/step - loss: 0.8772 - accuracy: 0.8277\n",
            "Epoch 2/20\n",
            "281/281 [==============================] - 189s 674ms/step - loss: 0.7266 - accuracy: 0.8862\n",
            "Epoch 3/20\n",
            "281/281 [==============================] - 189s 674ms/step - loss: 0.7244 - accuracy: 0.9012\n",
            "Epoch 4/20\n",
            "281/281 [==============================] - 189s 674ms/step - loss: 0.4772 - accuracy: 0.8948\n",
            "Epoch 5/20\n",
            "281/281 [==============================] - 189s 673ms/step - loss: 0.3469 - accuracy: 0.9269\n",
            "Epoch 6/20\n",
            "281/281 [==============================] - 188s 669ms/step - loss: 0.3217 - accuracy: 0.9183\n",
            "Epoch 7/20\n",
            "281/281 [==============================] - 189s 673ms/step - loss: 0.3252 - accuracy: 0.9383\n",
            "Epoch 8/20\n",
            "281/281 [==============================] - 189s 673ms/step - loss: 0.3336 - accuracy: 0.9443\n",
            "Epoch 9/20\n",
            "281/281 [==============================] - 189s 673ms/step - loss: 0.2597 - accuracy: 0.9554\n",
            "Epoch 10/20\n",
            "281/281 [==============================] - 190s 676ms/step - loss: 0.1702 - accuracy: 0.9707\n",
            "Epoch 11/20\n",
            "281/281 [==============================] - 189s 673ms/step - loss: 0.3381 - accuracy: 0.9732\n",
            "Epoch 12/20\n",
            "281/281 [==============================] - 191s 678ms/step - loss: 0.1834 - accuracy: 0.9747\n",
            "Epoch 13/20\n",
            "281/281 [==============================] - 189s 673ms/step - loss: 0.6142 - accuracy: 0.9715\n",
            "Epoch 14/20\n",
            "281/281 [==============================] - 189s 673ms/step - loss: 0.6738 - accuracy: 0.9747\n",
            "Epoch 15/20\n",
            "281/281 [==============================] - 190s 676ms/step - loss: 0.2086 - accuracy: 0.9732\n",
            "Epoch 16/20\n",
            "281/281 [==============================] - 190s 678ms/step - loss: 0.3748 - accuracy: 0.9736\n",
            "Epoch 17/20\n",
            "281/281 [==============================] - 191s 679ms/step - loss: 0.3710 - accuracy: 0.9775\n",
            "Epoch 18/20\n",
            "281/281 [==============================] - 190s 677ms/step - loss: 0.3495 - accuracy: 0.9829\n",
            "Epoch 19/20\n",
            "281/281 [==============================] - 191s 678ms/step - loss: 0.1376 - accuracy: 0.9886\n",
            "Epoch 20/20\n",
            "281/281 [==============================] - 191s 680ms/step - loss: 0.2021 - accuracy: 0.9889\n"
          ]
        }
      ],
      "source": [
        "history = model.fit(np.array(images), np.array(labels), batch_size=10, epochs=20, verbose=1)"
      ]
    },
    {
      "cell_type": "markdown",
      "source": [
        "##=======================  **Prediction** ============================"
      ],
      "metadata": {
        "id": "mYvIK7KWiBRd"
      }
    },
    {
      "cell_type": "code",
      "source": [
        "from keras.preprocessing import image   # image processes using Keras\n",
        "\n",
        "# Load image for prediction\n",
        "\n",
        "Test_Image1 = image.load_img('/content/118118306-portrait-of-asian-college-student-on-campus.jpg',color_mode=\"rgb\" ,target_size=(150,150,3))\n",
        "Test_Image = image.img_to_array(Test_Image1)\n",
        "Test_Image = np.expand_dims(Test_Image,axis=0)"
      ],
      "metadata": {
        "id": "2jVnzzkLtVE_"
      },
      "execution_count": 72,
      "outputs": []
    },
    {
      "cell_type": "markdown",
      "source": [
        "### **image fit in ML Model for Predication**"
      ],
      "metadata": {
        "id": "LCqYhgc9N3oR"
      }
    },
    {
      "cell_type": "code",
      "source": [
        "Pred = model.predict(Test_Image)\n",
        "Pred"
      ],
      "metadata": {
        "colab": {
          "base_uri": "https://localhost:8080/"
        },
        "id": "Nd9aUToUu_Cw",
        "outputId": "863bf3c8-d368-4113-8bd3-f44274994111"
      },
      "execution_count": 73,
      "outputs": [
        {
          "output_type": "execute_result",
          "data": {
            "text/plain": [
              "array([[9.9999785e-01, 8.6357459e-19, 2.1335034e-06, 9.9397667e-25,\n",
              "        1.5703143e-24, 2.9959815e-24, 1.1297047e-25, 6.1681613e-26,\n",
              "        7.1871194e-25, 1.6131802e-24]], dtype=float32)"
            ]
          },
          "metadata": {},
          "execution_count": 73
        }
      ]
    },
    {
      "cell_type": "markdown",
      "metadata": {
        "id": "j5zrMJd-fCMe"
      },
      "source": [
        "##**Sort the Prediction from least to Greatest**"
      ]
    },
    {
      "cell_type": "code",
      "execution_count": 74,
      "metadata": {
        "colab": {
          "base_uri": "https://localhost:8080/"
        },
        "id": "1b7GQSGYQ4NE",
        "outputId": "88027fd0-2a8b-4e81-bafa-54731e494a1b"
      },
      "outputs": [
        {
          "output_type": "stream",
          "name": "stdout",
          "text": [
            "[0, 2, 1]\n"
          ]
        }
      ],
      "source": [
        "list_index = [0,1,2]\n",
        "x=Pred\n",
        "\n",
        "for i in range(3):\n",
        "  for j in range(3):\n",
        "    if x[0][list_index[i]] > x[0][list_index[j]]:\n",
        "      temp = list_index[i]\n",
        "      list_index[i] = list_index[j]\n",
        "      list_index[j] = temp\n",
        "# Shoe the sorted Label in  order\n",
        "print(list_index)"
      ]
    },
    {
      "cell_type": "code",
      "execution_count": 75,
      "metadata": {
        "colab": {
          "base_uri": "https://localhost:8080/",
          "height": 321
        },
        "id": "8ENVR7RyhYMR",
        "outputId": "93908979-42f6-4ab7-aa15-9811dfd05045"
      },
      "outputs": [
        {
          "output_type": "stream",
          "name": "stdout",
          "text": [
            "Adult : 100.0 %\n",
            "Toddler : 0.0 %\n",
            "Teenager : 0.0 %\n"
          ]
        },
        {
          "output_type": "display_data",
          "data": {
            "text/plain": [
              "<Figure size 432x288 with 1 Axes>"
            ],
            "image/png": "[encoded data removed]"
          },
          "metadata": {
            "needs_background": "light"
          }
        }
      ],
      "source": [
        "# Print the first 3 Classes \n",
        "\n",
        "plt.imshow(Test_Image1)\n",
        "for i in range(3):\n",
        "  print(Class_Names[list_index[i]],':' ,round(Pred[0][list_index[i]] * 100,2),'%')"
      ]
    },
    {
      "cell_type": "code",
      "source": [
        "plt.plot(history.history['loss'])\n",
        "plt.plot(history.history['accuracy'])\n",
        "plt.title('model loss')\n",
        "plt.ylabel('loss/accuracy')\n",
        "plt.xlabel('epoch')\n",
        "plt.legend(['loss', 'accuracy'], loc='upper left')\n",
        "plt.show()"
      ],
      "metadata": {
        "colab": {
          "base_uri": "https://localhost:8080/",
          "height": 295
        },
        "id": "sBSoxWtCCKpz",
        "outputId": "d574e19d-5828-4058-969b-674213663fbd"
      },
      "execution_count": 76,
      "outputs": [
        {
          "output_type": "display_data",
          "data": {
            "text/plain": [
              "<Figure size 432x288 with 1 Axes>"
            ],
            "image/png": "[encoded data removed]"
          },
          "metadata": {
            "needs_background": "light"
          }
        }
      ]
    },
    {
      "cell_type": "markdown",
      "source": [
        "##===========================   **End Model**  =============================="
      ],
      "metadata": {
        "id": "rxs1TVwR9dAV"
      }
    },
    {
      "cell_type": "markdown",
      "source": [
        "##**Test Data Prediction**"
      ],
      "metadata": {
        "id": "o-fp4YB3XqE6"
      }
    },
    {
      "cell_type": "code",
      "source": [
        "test_DF = pd.read_csv('/content/drive/MyDrive/Friendship goals Dataset/Test.csv')\n",
        "test_DF"
      ],
      "metadata": {
        "colab": {
          "base_uri": "https://localhost:8080/",
          "height": 423
        },
        "id": "1c7fDL-wXwGB",
        "outputId": "231cd59d-82f7-4cae-ff8d-fbbe5ea24486"
      },
      "execution_count": 77,
      "outputs": [
        {
          "output_type": "execute_result",
          "data": {
            "text/plain": [
              "        Filename\n",
              "0    Img1137.jpg\n",
              "1    Img3633.jpg\n",
              "2    Img1474.jpg\n",
              "3    Img3459.jpg\n",
              "4    Img5578.jpg\n",
              "..           ...\n",
              "309  Img2040.jpg\n",
              "310  Img1951.jpg\n",
              "311  Img5148.jpg\n",
              "312  Img3968.jpg\n",
              "313  Img6290.jpg\n",
              "\n",
              "[314 rows x 1 columns]"
            ],
            "text/html": [
              "\n",
              "  <div id=\"df-e9a30abe-811d-4f9c-a78a-1767caed9fb0\">\n",
              "    <div class=\"colab-df-container\">\n",
              "      <div>\n",
              "<style scoped>\n",
              "    .dataframe tbody tr th:only-of-type {\n",
              "        vertical-align: middle;\n",
              "    }\n",
              "\n",
              "    .dataframe tbody tr th {\n",
              "        vertical-align: top;\n",
              "    }\n",
              "\n",
              "    .dataframe thead th {\n",
              "        text-align: right;\n",
              "    }\n",
              "</style>\n",
              "<table border=\"1\" class=\"dataframe\">\n",
              "  <thead>\n",
              "    <tr style=\"text-align: right;\">\n",
              "      <th></th>\n",
              "      <th>Filename</th>\n",
              "    </tr>\n",
              "  </thead>\n",
              "  <tbody>\n",
              "    <tr>\n",
              "      <th>0</th>\n",
              "      <td>Img1137.jpg</td>\n",
              "    </tr>\n",
              "    <tr>\n",
              "      <th>1</th>\n",
              "      <td>Img3633.jpg</td>\n",
              "    </tr>\n",
              "    <tr>\n",
              "      <th>2</th>\n",
              "      <td>Img1474.jpg</td>\n",
              "    </tr>\n",
              "    <tr>\n",
              "      <th>3</th>\n",
              "      <td>Img3459.jpg</td>\n",
              "    </tr>\n",
              "    <tr>\n",
              "      <th>4</th>\n",
              "      <td>Img5578.jpg</td>\n",
              "    </tr>\n",
              "    <tr>\n",
              "      <th>...</th>\n",
              "      <td>...</td>\n",
              "    </tr>\n",
              "    <tr>\n",
              "      <th>309</th>\n",
              "      <td>Img2040.jpg</td>\n",
              "    </tr>\n",
              "    <tr>\n",
              "      <th>310</th>\n",
              "      <td>Img1951.jpg</td>\n",
              "    </tr>\n",
              "    <tr>\n",
              "      <th>311</th>\n",
              "      <td>Img5148.jpg</td>\n",
              "    </tr>\n",
              "    <tr>\n",
              "      <th>312</th>\n",
              "      <td>Img3968.jpg</td>\n",
              "    </tr>\n",
              "    <tr>\n",
              "      <th>313</th>\n",
              "      <td>Img6290.jpg</td>\n",
              "    </tr>\n",
              "  </tbody>\n",
              "</table>\n",
              "<p>314 rows × 1 columns</p>\n",
              "</div>\n",
              "      <button class=\"colab-df-convert\" onclick=\"convertToInteractive('df-e9a30abe-811d-4f9c-a78a-1767caed9fb0')\"\n",
              "              title=\"Convert this dataframe to an interactive table.\"\n",
              "              style=\"display:none;\">\n",
              "        \n",
              "  <svg xmlns=\"http://www.w3.org/2000/svg\" height=\"24px\"viewBox=\"0 0 24 24\"\n",
              "       width=\"24px\">\n",
              "    <path d=\"M0 0h24v24H0V0z\" fill=\"none\"/>\n",
              "    <path d=\"M18.56 5.44l.94 2.06.94-2.06 2.06-.94-2.06-.94-.94-2.06-.94 2.06-2.06.94zm-11 1L8.5 8.5l.94-2.06 2.06-.94-2.06-.94L8.5 2.5l-.94 2.06-2.06.94zm10 10l.94 2.06.94-2.06 2.06-.94-2.06-.94-.94-2.06-.94 2.06-2.06.94z\"/><path d=\"M17.41 7.96l-1.37-1.37c-.4-.4-.92-.59-1.43-.59-.52 0-1.04.2-1.43.59L10.3 9.45l-7.72 7.72c-.78.78-.78 2.05 0 2.83L4 21.41c.39.39.9.59 1.41.59.51 0 1.02-.2 1.41-.59l7.78-7.78 2.81-2.81c.8-.78.8-2.07 0-2.86zM5.41 20L4 18.59l7.72-7.72 1.47 1.35L5.41 20z\"/>\n",
              "  </svg>\n",
              "      </button>\n",
              "      \n",
              "  <style>\n",
              "    .colab-df-container {\n",
              "      display:flex;\n",
              "      flex-wrap:wrap;\n",
              "      gap: 12px;\n",
              "    }\n",
              "\n",
              "    .colab-df-convert {\n",
              "      background-color: #E8F0FE;\n",
              "      border: none;\n",
              "      border-radius: 50%;\n",
              "      cursor: pointer;\n",
              "      display: none;\n",
              "      fill: #1967D2;\n",
              "      height: 32px;\n",
              "      padding: 0 0 0 0;\n",
              "      width: 32px;\n",
              "    }\n",
              "\n",
              "    .colab-df-convert:hover {\n",
              "      background-color: #E2EBFA;\n",
              "      box-shadow: 0px 1px 2px rgba(60, 64, 67, 0.3), 0px 1px 3px 1px rgba(60, 64, 67, 0.15);\n",
              "      fill: #174EA6;\n",
              "    }\n",
              "\n",
              "    [theme=dark] .colab-df-convert {\n",
              "      background-color: #3B4455;\n",
              "      fill: #D2E3FC;\n",
              "    }\n",
              "\n",
              "    [theme=dark] .colab-df-convert:hover {\n",
              "      background-color: #434B5C;\n",
              "      box-shadow: 0px 1px 3px 1px rgba(0, 0, 0, 0.15);\n",
              "      filter: drop-shadow(0px 1px 2px rgba(0, 0, 0, 0.3));\n",
              "      fill: #FFFFFF;\n",
              "    }\n",
              "  </style>\n",
              "\n",
              "      <script>\n",
              "        const buttonEl =\n",
              "          document.querySelector('#df-e9a30abe-811d-4f9c-a78a-1767caed9fb0 button.colab-df-convert');\n",
              "        buttonEl.style.display =\n",
              "          google.colab.kernel.accessAllowed ? 'block' : 'none';\n",
              "\n",
              "        async function convertToInteractive(key) {\n",
              "          const element = document.querySelector('#df-e9a30abe-811d-4f9c-a78a-1767caed9fb0');\n",
              "          const dataTable =\n",
              "            await google.colab.kernel.invokeFunction('convertToInteractive',\n",
              "                                                     [key], {});\n",
              "          if (!dataTable) return;\n",
              "\n",
              "          const docLinkHtml = 'Like what you see? Visit the ' +\n",
              "            '<a target=\"_blank\" href=https://colab.research.google.com/notebooks/data_table.ipynb>data table notebook</a>'\n",
              "            + ' to learn more about interactive tables.';\n",
              "          element.innerHTML = '';\n",
              "          dataTable['output_type'] = 'display_data';\n",
              "          await google.colab.output.renderOutput(dataTable, element);\n",
              "          const docLink = document.createElement('div');\n",
              "          docLink.innerHTML = docLinkHtml;\n",
              "          element.appendChild(docLink);\n",
              "        }\n",
              "      </script>\n",
              "    </div>\n",
              "  </div>\n",
              "  "
            ]
          },
          "metadata": {},
          "execution_count": 77
        }
      ]
    },
    {
      "cell_type": "code",
      "execution_count": 78,
      "metadata": {
        "id": "JxSlt1Pba5VO"
      },
      "outputs": [],
      "source": [
        "import cv2\n",
        "import os\n",
        "import glob\n"
      ]
    },
    {
      "cell_type": "code",
      "source": [
        "test_DF_Path = '/content/drive/MyDrive/Friendship goals Dataset/Test Data/Test Data/*.jpg'\n",
        "glob.glob(test_DF_Path)"
      ],
      "metadata": {
        "id": "zvtKRMt7YkTo"
      },
      "execution_count": null,
      "outputs": []
    },
    {
      "cell_type": "code",
      "source": [
        "Test_Images=[]\n",
        "for img in glob.glob(test_DF_Path):\n",
        "  df = cv2.imread(img)\n",
        "  df1 = cv2.resize(df,(150,150))\n",
        "  df1 = cv2.cvtColor(df1, cv2.COLOR_BGR2RGB)\n",
        "  Test_Images.append(df1)"
      ],
      "metadata": {
        "id": "DE_z6CsQbb9K"
      },
      "execution_count": 24,
      "outputs": []
    },
    {
      "cell_type": "code",
      "source": [
        "Test_Images"
      ],
      "metadata": {
        "id": "PqpFNDPHcdJ8"
      },
      "execution_count": null,
      "outputs": []
    },
    {
      "cell_type": "code",
      "source": [
        "##Test_Images = np.array(Test_Images)"
      ],
      "metadata": {
        "id": "CSV2zSoSdror"
      },
      "execution_count": 50,
      "outputs": []
    },
    {
      "cell_type": "code",
      "source": [
        "pre=[]\n",
        "pred = model.predict(np.array(np.array(Test_Images)))\n",
        "for i in range(0,len(Test_Images)):\n",
        "    p=pred[i][0]\n",
        "    tmp=0\n",
        "    for j in range(0,3):\n",
        "        if pred[i][j]>p:\n",
        "            p=pred[i][j]\n",
        "            tmp=j\n",
        "    pre.append(tmp)"
      ],
      "metadata": {
        "id": "Gy1lgb9Zc8o-"
      },
      "execution_count": 81,
      "outputs": []
    },
    {
      "cell_type": "code",
      "source": [
        "len(pre)"
      ],
      "metadata": {
        "colab": {
          "base_uri": "https://localhost:8080/"
        },
        "id": "sz2SJxGpekEr",
        "outputId": "5b75bf19-6e26-4fa7-f34b-29fee9fca816"
      },
      "execution_count": 82,
      "outputs": [
        {
          "output_type": "execute_result",
          "data": {
            "text/plain": [
              "314"
            ]
          },
          "metadata": {},
          "execution_count": 82
        }
      ]
    },
    {
      "cell_type": "code",
      "source": [
        "final=[]\n",
        "for i in range(len(pre)):\n",
        "    if(pre[i]==0): final.append('Adults')\n",
        "    elif(pre[i]==1): final.append('Teenagers')\n",
        "    else: final.append('Toddler')"
      ],
      "metadata": {
        "id": "qdD3pQ20BMzl"
      },
      "execution_count": 83,
      "outputs": []
    },
    {
      "cell_type": "code",
      "source": [
        "df3 = pd.DataFrame(data={\"Filename\":test_DF.Filename, \"Labels\":final})\n",
        "df3.to_csv(\"Finally_Submission.csv\")"
      ],
      "metadata": {
        "id": "cPE5q-cOGaon"
      },
      "execution_count": 86,
      "outputs": []
    },
    {
      "cell_type": "markdown",
      "source": [
        "##=============================================================================="
      ],
      "metadata": {
        "id": "HZ31gjt4NmFQ"
      }
    }
  ],
  "metadata": {
    "colab": {
      "name": "Friendship goals.ipynb",
      "provenance": [],
      "collapsed_sections": []
    },
    "kernelspec": {
      "display_name": "Python 3",
      "name": "python3"
    },
    "language_info": {
      "name": "python"
    }
  },
  "nbformat": 4,
  "nbformat_minor": 0
}